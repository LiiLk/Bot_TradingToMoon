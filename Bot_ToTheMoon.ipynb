{
  "nbformat": 4,
  "nbformat_minor": 0,
  "metadata": {
    "colab": {
      "name": "Bot_ToTheMoon.ipynb",
      "provenance": [],
      "collapsed_sections": [],
      "authorship_tag": "ABX9TyPYg3don/lbmNF+W4OidhcJ",
      "include_colab_link": true
    },
    "kernelspec": {
      "name": "python3",
      "display_name": "Python 3"
    },
    "language_info": {
      "name": "python"
    }
  },
  "cells": [
    {
      "cell_type": "markdown",
      "metadata": {
        "id": "view-in-github",
        "colab_type": "text"
      },
      "source": [
        "<a href=\"https://colab.research.google.com/github/LiiLk/Bot_TradingToMoon/blob/master/Bot_ToTheMoon.ipynb\" target=\"_parent\"><img src=\"https://colab.research.google.com/assets/colab-badge.svg\" alt=\"Open In Colab\"/></a>"
      ]
    },
    {
      "cell_type": "markdown",
      "source": [
        "# **Installation des bibliothéques pour le backtest(=test avant utilisation réelle) du bot de trading**"
      ],
      "metadata": {
        "id": "XhUMnVPrOZkp"
      }
    },
    {
      "cell_type": "code",
      "source": [
        "pip install jupyter_nbextensions_configurator\n"
      ],
      "metadata": {
        "colab": {
          "base_uri": "https://localhost:8080/"
        },
        "id": "z14PTjvImJdC",
        "outputId": "83055223-14ca-46ee-9ad7-32f608c2a198"
      },
      "execution_count": null,
      "outputs": [
        {
          "output_type": "stream",
          "name": "stdout",
          "text": [
            "Collecting jupyter_nbextensions_configurator\n",
            "  Downloading jupyter_nbextensions_configurator-0.4.1.tar.gz (479 kB)\n",
            "\u001b[?25l\r\u001b[K     |▊                               | 10 kB 17.1 MB/s eta 0:00:01\r\u001b[K     |█▍                              | 20 kB 12.1 MB/s eta 0:00:01\r\u001b[K     |██                              | 30 kB 9.2 MB/s eta 0:00:01\r\u001b[K     |██▊                             | 40 kB 8.2 MB/s eta 0:00:01\r\u001b[K     |███▍                            | 51 kB 5.3 MB/s eta 0:00:01\r\u001b[K     |████                            | 61 kB 5.4 MB/s eta 0:00:01\r\u001b[K     |████▉                           | 71 kB 5.6 MB/s eta 0:00:01\r\u001b[K     |█████▌                          | 81 kB 6.2 MB/s eta 0:00:01\r\u001b[K     |██████▏                         | 92 kB 5.0 MB/s eta 0:00:01\r\u001b[K     |██████▉                         | 102 kB 5.4 MB/s eta 0:00:01\r\u001b[K     |███████▌                        | 112 kB 5.4 MB/s eta 0:00:01\r\u001b[K     |████████▏                       | 122 kB 5.4 MB/s eta 0:00:01\r\u001b[K     |████████▉                       | 133 kB 5.4 MB/s eta 0:00:01\r\u001b[K     |█████████▋                      | 143 kB 5.4 MB/s eta 0:00:01\r\u001b[K     |██████████▎                     | 153 kB 5.4 MB/s eta 0:00:01\r\u001b[K     |███████████                     | 163 kB 5.4 MB/s eta 0:00:01\r\u001b[K     |███████████▋                    | 174 kB 5.4 MB/s eta 0:00:01\r\u001b[K     |████████████▎                   | 184 kB 5.4 MB/s eta 0:00:01\r\u001b[K     |█████████████                   | 194 kB 5.4 MB/s eta 0:00:01\r\u001b[K     |█████████████▋                  | 204 kB 5.4 MB/s eta 0:00:01\r\u001b[K     |██████████████▍                 | 215 kB 5.4 MB/s eta 0:00:01\r\u001b[K     |███████████████                 | 225 kB 5.4 MB/s eta 0:00:01\r\u001b[K     |███████████████▊                | 235 kB 5.4 MB/s eta 0:00:01\r\u001b[K     |████████████████▍               | 245 kB 5.4 MB/s eta 0:00:01\r\u001b[K     |█████████████████               | 256 kB 5.4 MB/s eta 0:00:01\r\u001b[K     |█████████████████▊              | 266 kB 5.4 MB/s eta 0:00:01\r\u001b[K     |██████████████████▍             | 276 kB 5.4 MB/s eta 0:00:01\r\u001b[K     |███████████████████▏            | 286 kB 5.4 MB/s eta 0:00:01\r\u001b[K     |███████████████████▉            | 296 kB 5.4 MB/s eta 0:00:01\r\u001b[K     |████████████████████▌           | 307 kB 5.4 MB/s eta 0:00:01\r\u001b[K     |█████████████████████▏          | 317 kB 5.4 MB/s eta 0:00:01\r\u001b[K     |█████████████████████▉          | 327 kB 5.4 MB/s eta 0:00:01\r\u001b[K     |██████████████████████▌         | 337 kB 5.4 MB/s eta 0:00:01\r\u001b[K     |███████████████████████▏        | 348 kB 5.4 MB/s eta 0:00:01\r\u001b[K     |████████████████████████        | 358 kB 5.4 MB/s eta 0:00:01\r\u001b[K     |████████████████████████▋       | 368 kB 5.4 MB/s eta 0:00:01\r\u001b[K     |█████████████████████████▎      | 378 kB 5.4 MB/s eta 0:00:01\r\u001b[K     |██████████████████████████      | 389 kB 5.4 MB/s eta 0:00:01\r\u001b[K     |██████████████████████████▋     | 399 kB 5.4 MB/s eta 0:00:01\r\u001b[K     |███████████████████████████▎    | 409 kB 5.4 MB/s eta 0:00:01\r\u001b[K     |████████████████████████████    | 419 kB 5.4 MB/s eta 0:00:01\r\u001b[K     |████████████████████████████▊   | 430 kB 5.4 MB/s eta 0:00:01\r\u001b[K     |█████████████████████████████▍  | 440 kB 5.4 MB/s eta 0:00:01\r\u001b[K     |██████████████████████████████  | 450 kB 5.4 MB/s eta 0:00:01\r\u001b[K     |██████████████████████████████▊ | 460 kB 5.4 MB/s eta 0:00:01\r\u001b[K     |███████████████████████████████▍| 471 kB 5.4 MB/s eta 0:00:01\r\u001b[K     |████████████████████████████████| 479 kB 5.4 MB/s \n",
            "\u001b[?25hCollecting jupyter_contrib_core>=0.3.3\n",
            "  Downloading jupyter_contrib_core-0.3.3-py2.py3-none-any.whl (18 kB)\n",
            "Requirement already satisfied: jupyter_core in /usr/local/lib/python3.7/dist-packages (from jupyter_nbextensions_configurator) (4.9.1)\n",
            "Requirement already satisfied: notebook>=4.0 in /usr/local/lib/python3.7/dist-packages (from jupyter_nbextensions_configurator) (5.3.1)\n",
            "Requirement already satisfied: pyyaml in /usr/local/lib/python3.7/dist-packages (from jupyter_nbextensions_configurator) (3.13)\n",
            "Requirement already satisfied: tornado in /usr/local/lib/python3.7/dist-packages (from jupyter_nbextensions_configurator) (5.1.1)\n",
            "Requirement already satisfied: traitlets in /usr/local/lib/python3.7/dist-packages (from jupyter_nbextensions_configurator) (5.1.1)\n",
            "Requirement already satisfied: setuptools in /usr/local/lib/python3.7/dist-packages (from jupyter_contrib_core>=0.3.3->jupyter_nbextensions_configurator) (57.4.0)\n",
            "Requirement already satisfied: ipython-genutils in /usr/local/lib/python3.7/dist-packages (from notebook>=4.0->jupyter_nbextensions_configurator) (0.2.0)\n",
            "Requirement already satisfied: nbformat in /usr/local/lib/python3.7/dist-packages (from notebook>=4.0->jupyter_nbextensions_configurator) (5.1.3)\n",
            "Requirement already satisfied: ipykernel in /usr/local/lib/python3.7/dist-packages (from notebook>=4.0->jupyter_nbextensions_configurator) (4.10.1)\n",
            "Requirement already satisfied: Send2Trash in /usr/local/lib/python3.7/dist-packages (from notebook>=4.0->jupyter_nbextensions_configurator) (1.8.0)\n",
            "Requirement already satisfied: terminado>=0.8.1 in /usr/local/lib/python3.7/dist-packages (from notebook>=4.0->jupyter_nbextensions_configurator) (0.13.1)\n",
            "Requirement already satisfied: jinja2 in /usr/local/lib/python3.7/dist-packages (from notebook>=4.0->jupyter_nbextensions_configurator) (2.11.3)\n",
            "Requirement already satisfied: jupyter-client>=5.2.0 in /usr/local/lib/python3.7/dist-packages (from notebook>=4.0->jupyter_nbextensions_configurator) (5.3.5)\n",
            "Requirement already satisfied: nbconvert in /usr/local/lib/python3.7/dist-packages (from notebook>=4.0->jupyter_nbextensions_configurator) (5.6.1)\n",
            "Requirement already satisfied: python-dateutil>=2.1 in /usr/local/lib/python3.7/dist-packages (from jupyter-client>=5.2.0->notebook>=4.0->jupyter_nbextensions_configurator) (2.8.2)\n",
            "Requirement already satisfied: pyzmq>=13 in /usr/local/lib/python3.7/dist-packages (from jupyter-client>=5.2.0->notebook>=4.0->jupyter_nbextensions_configurator) (22.3.0)\n",
            "Requirement already satisfied: six>=1.5 in /usr/local/lib/python3.7/dist-packages (from python-dateutil>=2.1->jupyter-client>=5.2.0->notebook>=4.0->jupyter_nbextensions_configurator) (1.15.0)\n",
            "Requirement already satisfied: ptyprocess in /usr/local/lib/python3.7/dist-packages (from terminado>=0.8.1->notebook>=4.0->jupyter_nbextensions_configurator) (0.7.0)\n",
            "Requirement already satisfied: ipython>=4.0.0 in /usr/local/lib/python3.7/dist-packages (from ipykernel->notebook>=4.0->jupyter_nbextensions_configurator) (5.5.0)\n",
            "Requirement already satisfied: pickleshare in /usr/local/lib/python3.7/dist-packages (from ipython>=4.0.0->ipykernel->notebook>=4.0->jupyter_nbextensions_configurator) (0.7.5)\n",
            "Requirement already satisfied: decorator in /usr/local/lib/python3.7/dist-packages (from ipython>=4.0.0->ipykernel->notebook>=4.0->jupyter_nbextensions_configurator) (4.4.2)\n",
            "Requirement already satisfied: prompt-toolkit<2.0.0,>=1.0.4 in /usr/local/lib/python3.7/dist-packages (from ipython>=4.0.0->ipykernel->notebook>=4.0->jupyter_nbextensions_configurator) (1.0.18)\n",
            "Requirement already satisfied: pygments in /usr/local/lib/python3.7/dist-packages (from ipython>=4.0.0->ipykernel->notebook>=4.0->jupyter_nbextensions_configurator) (2.6.1)\n",
            "Requirement already satisfied: pexpect in /usr/local/lib/python3.7/dist-packages (from ipython>=4.0.0->ipykernel->notebook>=4.0->jupyter_nbextensions_configurator) (4.8.0)\n",
            "Requirement already satisfied: simplegeneric>0.8 in /usr/local/lib/python3.7/dist-packages (from ipython>=4.0.0->ipykernel->notebook>=4.0->jupyter_nbextensions_configurator) (0.8.1)\n",
            "Requirement already satisfied: wcwidth in /usr/local/lib/python3.7/dist-packages (from prompt-toolkit<2.0.0,>=1.0.4->ipython>=4.0.0->ipykernel->notebook>=4.0->jupyter_nbextensions_configurator) (0.2.5)\n",
            "Requirement already satisfied: MarkupSafe>=0.23 in /usr/local/lib/python3.7/dist-packages (from jinja2->notebook>=4.0->jupyter_nbextensions_configurator) (2.0.1)\n",
            "Requirement already satisfied: entrypoints>=0.2.2 in /usr/local/lib/python3.7/dist-packages (from nbconvert->notebook>=4.0->jupyter_nbextensions_configurator) (0.4)\n",
            "Requirement already satisfied: pandocfilters>=1.4.1 in /usr/local/lib/python3.7/dist-packages (from nbconvert->notebook>=4.0->jupyter_nbextensions_configurator) (1.5.0)\n",
            "Requirement already satisfied: defusedxml in /usr/local/lib/python3.7/dist-packages (from nbconvert->notebook>=4.0->jupyter_nbextensions_configurator) (0.7.1)\n",
            "Requirement already satisfied: bleach in /usr/local/lib/python3.7/dist-packages (from nbconvert->notebook>=4.0->jupyter_nbextensions_configurator) (4.1.0)\n",
            "Requirement already satisfied: testpath in /usr/local/lib/python3.7/dist-packages (from nbconvert->notebook>=4.0->jupyter_nbextensions_configurator) (0.5.0)\n",
            "Requirement already satisfied: mistune<2,>=0.8.1 in /usr/local/lib/python3.7/dist-packages (from nbconvert->notebook>=4.0->jupyter_nbextensions_configurator) (0.8.4)\n",
            "Requirement already satisfied: jsonschema!=2.5.0,>=2.4 in /usr/local/lib/python3.7/dist-packages (from nbformat->notebook>=4.0->jupyter_nbextensions_configurator) (4.3.3)\n",
            "Requirement already satisfied: attrs>=17.4.0 in /usr/local/lib/python3.7/dist-packages (from jsonschema!=2.5.0,>=2.4->nbformat->notebook>=4.0->jupyter_nbextensions_configurator) (21.4.0)\n",
            "Requirement already satisfied: pyrsistent!=0.17.0,!=0.17.1,!=0.17.2,>=0.14.0 in /usr/local/lib/python3.7/dist-packages (from jsonschema!=2.5.0,>=2.4->nbformat->notebook>=4.0->jupyter_nbextensions_configurator) (0.18.1)\n",
            "Requirement already satisfied: importlib-resources>=1.4.0 in /usr/local/lib/python3.7/dist-packages (from jsonschema!=2.5.0,>=2.4->nbformat->notebook>=4.0->jupyter_nbextensions_configurator) (5.4.0)\n",
            "Requirement already satisfied: typing-extensions in /usr/local/lib/python3.7/dist-packages (from jsonschema!=2.5.0,>=2.4->nbformat->notebook>=4.0->jupyter_nbextensions_configurator) (3.10.0.2)\n",
            "Requirement already satisfied: importlib-metadata in /usr/local/lib/python3.7/dist-packages (from jsonschema!=2.5.0,>=2.4->nbformat->notebook>=4.0->jupyter_nbextensions_configurator) (4.10.1)\n",
            "Requirement already satisfied: zipp>=3.1.0 in /usr/local/lib/python3.7/dist-packages (from importlib-resources>=1.4.0->jsonschema!=2.5.0,>=2.4->nbformat->notebook>=4.0->jupyter_nbextensions_configurator) (3.7.0)\n",
            "Requirement already satisfied: webencodings in /usr/local/lib/python3.7/dist-packages (from bleach->nbconvert->notebook>=4.0->jupyter_nbextensions_configurator) (0.5.1)\n",
            "Requirement already satisfied: packaging in /usr/local/lib/python3.7/dist-packages (from bleach->nbconvert->notebook>=4.0->jupyter_nbextensions_configurator) (21.3)\n",
            "Requirement already satisfied: pyparsing!=3.0.5,>=2.0.2 in /usr/local/lib/python3.7/dist-packages (from packaging->bleach->nbconvert->notebook>=4.0->jupyter_nbextensions_configurator) (3.0.7)\n",
            "Building wheels for collected packages: jupyter-nbextensions-configurator\n",
            "  Building wheel for jupyter-nbextensions-configurator (setup.py) ... \u001b[?25l\u001b[?25hdone\n",
            "  Created wheel for jupyter-nbextensions-configurator: filename=jupyter_nbextensions_configurator-0.4.1-py2.py3-none-any.whl size=465843 sha256=64891db86563e361449a1c90dba19e36e2b255e23aaeee519bff1ea35a4a4c16\n",
            "  Stored in directory: /root/.cache/pip/wheels/8d/c4/b5/e4b61f624036f83566580d61f24af7b73180b1361ee1ab3722\n",
            "Successfully built jupyter-nbextensions-configurator\n",
            "Installing collected packages: jupyter-contrib-core, jupyter-nbextensions-configurator\n",
            "Successfully installed jupyter-contrib-core-0.3.3 jupyter-nbextensions-configurator-0.4.1\n"
          ]
        }
      ]
    },
    {
      "cell_type": "markdown",
      "source": [
        "**Installation de l'api binance pour récupérer les prix de crypto**"
      ],
      "metadata": {
        "id": "2ac9qRAgN5lU"
      }
    },
    {
      "cell_type": "code",
      "execution_count": null,
      "metadata": {
        "colab": {
          "base_uri": "https://localhost:8080/"
        },
        "id": "kWkCBOLfMltb",
        "outputId": "fea378f5-f3e3-4f5a-acbb-284eb77d9d95"
      },
      "outputs": [
        {
          "output_type": "stream",
          "name": "stdout",
          "text": [
            "Collecting python-binance\n",
            "  Downloading python_binance-1.0.15-py2.py3-none-any.whl (63 kB)\n",
            "\u001b[K     |████████████████████████████████| 63 kB 1.6 MB/s \n",
            "\u001b[?25hCollecting ujson\n",
            "  Downloading ujson-5.1.0-cp37-cp37m-manylinux_2_17_x86_64.manylinux2014_x86_64.whl (43 kB)\n",
            "\u001b[K     |████████████████████████████████| 43 kB 1.7 MB/s \n",
            "\u001b[?25hRequirement already satisfied: six in /usr/local/lib/python3.7/dist-packages (from python-binance) (1.15.0)\n",
            "Collecting dateparser\n",
            "  Downloading dateparser-1.1.0-py2.py3-none-any.whl (288 kB)\n",
            "\u001b[K     |████████████████████████████████| 288 kB 11.7 MB/s \n",
            "\u001b[?25hRequirement already satisfied: requests in /usr/local/lib/python3.7/dist-packages (from python-binance) (2.23.0)\n",
            "Collecting websockets==9.1\n",
            "  Downloading websockets-9.1-cp37-cp37m-manylinux2010_x86_64.whl (103 kB)\n",
            "\u001b[K     |████████████████████████████████| 103 kB 51.7 MB/s \n",
            "\u001b[?25hCollecting aiohttp\n",
            "  Downloading aiohttp-3.8.1-cp37-cp37m-manylinux_2_5_x86_64.manylinux1_x86_64.manylinux_2_12_x86_64.manylinux2010_x86_64.whl (1.1 MB)\n",
            "\u001b[K     |████████████████████████████████| 1.1 MB 37.0 MB/s \n",
            "\u001b[?25hCollecting frozenlist>=1.1.1\n",
            "  Downloading frozenlist-1.3.0-cp37-cp37m-manylinux_2_5_x86_64.manylinux1_x86_64.manylinux_2_17_x86_64.manylinux2014_x86_64.whl (144 kB)\n",
            "\u001b[K     |████████████████████████████████| 144 kB 8.3 MB/s \n",
            "\u001b[?25hRequirement already satisfied: typing-extensions>=3.7.4 in /usr/local/lib/python3.7/dist-packages (from aiohttp->python-binance) (3.10.0.2)\n",
            "Collecting aiosignal>=1.1.2\n",
            "  Downloading aiosignal-1.2.0-py3-none-any.whl (8.2 kB)\n",
            "Requirement already satisfied: charset-normalizer<3.0,>=2.0 in /usr/local/lib/python3.7/dist-packages (from aiohttp->python-binance) (2.0.11)\n",
            "Collecting async-timeout<5.0,>=4.0.0a3\n",
            "  Downloading async_timeout-4.0.2-py3-none-any.whl (5.8 kB)\n",
            "Collecting yarl<2.0,>=1.0\n",
            "  Downloading yarl-1.7.2-cp37-cp37m-manylinux_2_5_x86_64.manylinux1_x86_64.manylinux_2_12_x86_64.manylinux2010_x86_64.whl (271 kB)\n",
            "\u001b[K     |████████████████████████████████| 271 kB 38.2 MB/s \n",
            "\u001b[?25hCollecting multidict<7.0,>=4.5\n",
            "  Downloading multidict-6.0.2-cp37-cp37m-manylinux_2_17_x86_64.manylinux2014_x86_64.whl (94 kB)\n",
            "\u001b[K     |████████████████████████████████| 94 kB 2.9 MB/s \n",
            "\u001b[?25hRequirement already satisfied: attrs>=17.3.0 in /usr/local/lib/python3.7/dist-packages (from aiohttp->python-binance) (21.4.0)\n",
            "Collecting asynctest==0.13.0\n",
            "  Downloading asynctest-0.13.0-py3-none-any.whl (26 kB)\n",
            "Requirement already satisfied: idna>=2.0 in /usr/local/lib/python3.7/dist-packages (from yarl<2.0,>=1.0->aiohttp->python-binance) (2.10)\n",
            "Requirement already satisfied: pytz in /usr/local/lib/python3.7/dist-packages (from dateparser->python-binance) (2018.9)\n",
            "Requirement already satisfied: tzlocal in /usr/local/lib/python3.7/dist-packages (from dateparser->python-binance) (1.5.1)\n",
            "Requirement already satisfied: regex!=2019.02.19,!=2021.8.27 in /usr/local/lib/python3.7/dist-packages (from dateparser->python-binance) (2019.12.20)\n",
            "Requirement already satisfied: python-dateutil in /usr/local/lib/python3.7/dist-packages (from dateparser->python-binance) (2.8.2)\n",
            "Requirement already satisfied: certifi>=2017.4.17 in /usr/local/lib/python3.7/dist-packages (from requests->python-binance) (2021.10.8)\n",
            "Requirement already satisfied: urllib3!=1.25.0,!=1.25.1,<1.26,>=1.21.1 in /usr/local/lib/python3.7/dist-packages (from requests->python-binance) (1.24.3)\n",
            "Requirement already satisfied: chardet<4,>=3.0.2 in /usr/local/lib/python3.7/dist-packages (from requests->python-binance) (3.0.4)\n",
            "Installing collected packages: multidict, frozenlist, yarl, asynctest, async-timeout, aiosignal, websockets, ujson, dateparser, aiohttp, python-binance\n",
            "Successfully installed aiohttp-3.8.1 aiosignal-1.2.0 async-timeout-4.0.2 asynctest-0.13.0 dateparser-1.1.0 frozenlist-1.3.0 multidict-6.0.2 python-binance-1.0.15 ujson-5.1.0 websockets-9.1 yarl-1.7.2\n"
          ]
        }
      ],
      "source": [
        "pip install python-binance"
      ]
    },
    {
      "cell_type": "markdown",
      "source": [
        "**Je sais pas trop ça sert à quoi ça a l'air un turc comme pandas_ta mais en moins complet**\n",
        "\n",
        "\n"
      ],
      "metadata": {
        "id": "GzgVcYwLOn7M"
      }
    },
    {
      "cell_type": "code",
      "source": [
        "pip install ta"
      ],
      "metadata": {
        "colab": {
          "base_uri": "https://localhost:8080/"
        },
        "id": "Bp3Qfx2KM8Za",
        "outputId": "0fbbca17-74ca-4ae2-9d85-842766a20053"
      },
      "execution_count": null,
      "outputs": [
        {
          "output_type": "stream",
          "name": "stdout",
          "text": [
            "Collecting ta\n",
            "  Downloading ta-0.9.0.tar.gz (25 kB)\n",
            "Requirement already satisfied: numpy in /usr/local/lib/python3.7/dist-packages (from ta) (1.19.5)\n",
            "Requirement already satisfied: pandas in /usr/local/lib/python3.7/dist-packages (from ta) (1.3.5)\n",
            "Requirement already satisfied: pytz>=2017.3 in /usr/local/lib/python3.7/dist-packages (from pandas->ta) (2018.9)\n",
            "Requirement already satisfied: python-dateutil>=2.7.3 in /usr/local/lib/python3.7/dist-packages (from pandas->ta) (2.8.2)\n",
            "Requirement already satisfied: six>=1.5 in /usr/local/lib/python3.7/dist-packages (from python-dateutil>=2.7.3->pandas->ta) (1.15.0)\n",
            "Building wheels for collected packages: ta\n",
            "  Building wheel for ta (setup.py) ... \u001b[?25l\u001b[?25hdone\n",
            "  Created wheel for ta: filename=ta-0.9.0-py3-none-any.whl size=28908 sha256=25fa664e592b06ad7a7ea56170a1b90255590ab3068283cb5375800fc976d2e2\n",
            "  Stored in directory: /root/.cache/pip/wheels/72/78/64/cc1c01506a1010a9845e9bd7c69333730f7174661228ea4f98\n",
            "Successfully built ta\n",
            "Installing collected packages: ta\n",
            "Successfully installed ta-0.9.0\n"
          ]
        }
      ]
    },
    {
      "cell_type": "markdown",
      "source": [
        "**Installation de la bibliothéque pour avoir les analyses techniques comme sur tradingivew**"
      ],
      "metadata": {
        "id": "fGXxw7tdPUib"
      }
    },
    {
      "cell_type": "code",
      "source": [
        "pip install pandas_ta"
      ],
      "metadata": {
        "colab": {
          "base_uri": "https://localhost:8080/"
        },
        "id": "RyhXhDu6NG73",
        "outputId": "7e7479c1-16e1-4ff1-8158-cef8ba003675"
      },
      "execution_count": null,
      "outputs": [
        {
          "output_type": "stream",
          "name": "stdout",
          "text": [
            "Collecting pandas_ta\n",
            "  Downloading pandas_ta-0.3.14b.tar.gz (115 kB)\n",
            "\u001b[?25l\r\u001b[K     |██▉                             | 10 kB 24.9 MB/s eta 0:00:01\r\u001b[K     |█████▊                          | 20 kB 14.7 MB/s eta 0:00:01\r\u001b[K     |████████▌                       | 30 kB 10.8 MB/s eta 0:00:01\r\u001b[K     |███████████▍                    | 40 kB 9.4 MB/s eta 0:00:01\r\u001b[K     |██████████████▎                 | 51 kB 5.3 MB/s eta 0:00:01\r\u001b[K     |█████████████████               | 61 kB 5.8 MB/s eta 0:00:01\r\u001b[K     |████████████████████            | 71 kB 5.7 MB/s eta 0:00:01\r\u001b[K     |██████████████████████▊         | 81 kB 6.3 MB/s eta 0:00:01\r\u001b[K     |█████████████████████████▋      | 92 kB 4.9 MB/s eta 0:00:01\r\u001b[K     |████████████████████████████▌   | 102 kB 5.2 MB/s eta 0:00:01\r\u001b[K     |███████████████████████████████▎| 112 kB 5.2 MB/s eta 0:00:01\r\u001b[K     |████████████████████████████████| 115 kB 5.2 MB/s \n",
            "\u001b[?25hRequirement already satisfied: pandas in /usr/local/lib/python3.7/dist-packages (from pandas_ta) (1.3.5)\n",
            "Requirement already satisfied: numpy>=1.17.3 in /usr/local/lib/python3.7/dist-packages (from pandas->pandas_ta) (1.19.5)\n",
            "Requirement already satisfied: python-dateutil>=2.7.3 in /usr/local/lib/python3.7/dist-packages (from pandas->pandas_ta) (2.8.2)\n",
            "Requirement already satisfied: pytz>=2017.3 in /usr/local/lib/python3.7/dist-packages (from pandas->pandas_ta) (2018.9)\n",
            "Requirement already satisfied: six>=1.5 in /usr/local/lib/python3.7/dist-packages (from python-dateutil>=2.7.3->pandas->pandas_ta) (1.15.0)\n",
            "Building wheels for collected packages: pandas-ta\n",
            "  Building wheel for pandas-ta (setup.py) ... \u001b[?25l\u001b[?25hdone\n",
            "  Created wheel for pandas-ta: filename=pandas_ta-0.3.14b0-py3-none-any.whl size=218923 sha256=d563e020a0cd698adb0212587123ca53e7124d3fd1f5da219fe4063f0caa3de4\n",
            "  Stored in directory: /root/.cache/pip/wheels/0b/81/f0/cca85757840e4616a2c6b9fe12569d97d324c27cac60724c58\n",
            "Successfully built pandas-ta\n",
            "Installing collected packages: pandas-ta\n",
            "Successfully installed pandas-ta-0.3.14b0\n"
          ]
        }
      ]
    },
    {
      "cell_type": "markdown",
      "source": [
        "# **Import DataSet with API Binance**\n",
        "\n"
      ],
      "metadata": {
        "id": "ftsvzsoFNcM5"
      }
    },
    {
      "cell_type": "code",
      "source": [
        "import pandas as pd\n",
        "from binance.client import Client\n",
        "from binance.enums import HistoricalKlinesType\n",
        "import ta\n",
        "import pandas_ta as pda\n",
        "import matplotlib.pyplot as plt\n",
        "import numpy as np\n",
        "from termcolor import colored\n",
        "\n",
        "client = Client()\n",
        "#on récupére l'historique de prix de l'Ethereum Binance Futures(Marché contrat perpétuels) du 1er janvier 2018 à mtn\n",
        "klinesT = client.get_historical_klines(\"ETHUSDT\", Client.KLINE_INTERVAL_1HOUR, \"01 January 2018\", klines_type=HistoricalKlinesType.FUTURES)\n",
        "# Df=dataframe et va servir avec pandas de créer un tableau où on stocke avec klinesT : \n",
        "# la date du prix, prix ouverture, prix haut, prix bas, prix fermeture, volume, date de la fermeture bougie, et le reste qui n'est pas si important pour la suite\n",
        "df = pd.DataFrame(klinesT, columns = ['timestamp', 'open', 'high', 'low', 'close', 'volume', 'close_time', 'quote_av', 'trades', 'tb_base_av', 'tb_quote_av', 'ignore'])"
      ],
      "metadata": {
        "id": "OWXTH6JwNVzh"
      },
      "execution_count": null,
      "outputs": []
    },
    {
      "cell_type": "code",
      "source": [
        "print(df)"
      ],
      "metadata": {
        "colab": {
          "base_uri": "https://localhost:8080/"
        },
        "id": "hvW1DTg6WCc_",
        "outputId": "3a4d9ba3-81fd-4c32-e68e-36887088f392"
      },
      "execution_count": null,
      "outputs": [
        {
          "output_type": "stream",
          "name": "stdout",
          "text": [
            "           timestamp     open     high  ... tb_base_av      tb_quote_av ignore\n",
            "0      1574838000000      146      146  ...          0                0      0\n",
            "1      1574841600000   125.03   145.01  ...      0.010          1.45010      0\n",
            "2      1574845200000      133      133  ...          0                0      0\n",
            "3      1574848800000   142.20   144.52  ...   2595.490     370243.14710      0\n",
            "4      1574852400000   142.70   146.92  ...   5932.530     853652.59510      0\n",
            "...              ...      ...      ...  ...        ...              ...    ...\n",
            "19343  1644472800000  3172.91  3186.50  ...  19884.203   63188435.16906      0\n",
            "19344  1644476400000  3177.33  3194.51  ...  17799.900   56690775.28570      0\n",
            "19345  1644480000000  3187.91  3206.57  ...  28600.643   91379848.23665      0\n",
            "19346  1644483600000  3196.39  3215.47  ...  32451.953  103831245.33275      0\n",
            "19347  1644487200000  3211.95  3263.01  ...  58580.421  189956872.82248      0\n",
            "\n",
            "[19348 rows x 12 columns]\n"
          ]
        }
      ]
    },
    {
      "cell_type": "markdown",
      "source": [
        "# **Define your DataSet correctly for the bot**"
      ],
      "metadata": {
        "id": "D4SrtlOSXmaN"
      }
    },
    {
      "cell_type": "code",
      "source": [
        "df['close'] = pd.to_numeric(df['close'])\n",
        "df['high'] = pd.to_numeric(df['high'])\n",
        "df['low'] = pd.to_numeric(df['low'])\n",
        "df['open'] = pd.to_numeric(df['open'])"
      ],
      "metadata": {
        "id": "LXt4qJILXx1R"
      },
      "execution_count": null,
      "outputs": []
    },
    {
      "cell_type": "code",
      "source": [
        "del df['ignore']\n",
        "del df['close_time']\n",
        "del df['quote_av']\n",
        "del df['trades']\n",
        "del df['tb_base_av']\n",
        "del df['tb_quote_av']"
      ],
      "metadata": {
        "id": "JUFbVsdp7i9g"
      },
      "execution_count": null,
      "outputs": []
    },
    {
      "cell_type": "code",
      "source": [
        ""
      ],
      "metadata": {
        "id": "82RbSMov7jzK"
      },
      "execution_count": null,
      "outputs": []
    },
    {
      "cell_type": "markdown",
      "source": [
        "# **Set timestamp to column index and translate with a normal date**"
      ],
      "metadata": {
        "id": "ZUpTFzkmXR9d"
      }
    },
    {
      "cell_type": "code",
      "source": [
        "df = df.set_index(df['timestamp'])\n",
        "df.index = pd.to_datetime(df.index, unit='ms')\n",
        "del df['timestamp']\n",
        "\n",
        "print(\"Data loaded 100%\")\n",
        "print(df)\n"
      ],
      "metadata": {
        "colab": {
          "base_uri": "https://localhost:8080/"
        },
        "id": "RzXonrywXXe4",
        "outputId": "ee2b3c41-075c-4095-bf94-8ddfc251eaad"
      },
      "execution_count": null,
      "outputs": [
        {
          "output_type": "stream",
          "name": "stdout",
          "text": [
            "Data loaded 100%\n",
            "                        open     high      low    close      volume\n",
            "timestamp                                                          \n",
            "2019-11-27 07:00:00   146.00   146.00   146.00   146.00       0.010\n",
            "2019-11-27 08:00:00   125.03   145.01   125.03   133.00       0.080\n",
            "2019-11-27 09:00:00   133.00   133.00   133.00   133.00           0\n",
            "2019-11-27 10:00:00   142.20   144.52   142.10   142.62    2832.710\n",
            "2019-11-27 11:00:00   142.70   146.92   142.22   146.58    9079.800\n",
            "...                      ...      ...      ...      ...         ...\n",
            "2022-02-10 06:00:00  3172.91  3186.50  3166.00  3177.33   38634.467\n",
            "2022-02-10 07:00:00  3177.33  3194.51  3175.94  3187.90   34274.811\n",
            "2022-02-10 08:00:00  3187.91  3206.57  3184.00  3196.38   52416.365\n",
            "2022-02-10 09:00:00  3196.39  3215.47  3181.00  3212.28   60541.575\n",
            "2022-02-10 10:00:00  3211.95  3263.01  3209.04  3250.29  113994.083\n",
            "\n",
            "[19348 rows x 5 columns]\n"
          ]
        }
      ]
    },
    {
      "cell_type": "markdown",
      "source": [
        "# **Select indicators we need for the bot**"
      ],
      "metadata": {
        "id": "2VmGOilEWjFa"
      }
    },
    {
      "cell_type": "code",
      "source": [
        "df['SSA'] = ta.trend.ichimoku_a(df['high'], df['low']) #Senkou Span A Ichimoku \n",
        "df['SSB'] = ta.trend.ichimoku_b(df['high'], df['low']) #Senkou Span B Ichimoku\n",
        "df['Kijun'] = ta.trend.ichimoku_base_line(df['high'], df['low']) # Kijun Ichimoku\n",
        "df['Tenkan'] = ta.trend.ichimoku_conversion_line(df['high'], df['low']) # Tenkan Ichimoku\n",
        "df['MACD LINE'] = ta.trend.macd(close=df['close']) #Macd line\n",
        "df['MACD SIGNAL'] = ta.trend.macd_signal(close=df['close']) #MACD Signal\n",
        "df['EMA200'] = ta.trend.ema_indicator(close=df['close'], window=200)\n",
        "df['PSAR'] = ta.trend.PSARIndicator(df['high'], df['low'], df['close'])"
      ],
      "metadata": {
        "id": "n9CNkuXgWejB"
      },
      "execution_count": null,
      "outputs": []
    },
    {
      "cell_type": "code",
      "source": [
        "print(df)"
      ],
      "metadata": {
        "colab": {
          "base_uri": "https://localhost:8080/"
        },
        "id": "F6QSsiahi7bs",
        "outputId": "1193c4ac-fa21-401c-c13b-0845101e9d6e"
      },
      "execution_count": null,
      "outputs": [
        {
          "output_type": "stream",
          "name": "stdout",
          "text": [
            "                        open  ...                                               PSAR\n",
            "timestamp                     ...                                                   \n",
            "2019-11-27 07:00:00   146.00  ...  <ta.trend.PSARIndicator object at 0x7f87d6327f50>\n",
            "2019-11-27 08:00:00   125.03  ...  <ta.trend.PSARIndicator object at 0x7f87d6327f50>\n",
            "2019-11-27 09:00:00   133.00  ...  <ta.trend.PSARIndicator object at 0x7f87d6327f50>\n",
            "2019-11-27 10:00:00   142.20  ...  <ta.trend.PSARIndicator object at 0x7f87d6327f50>\n",
            "2019-11-27 11:00:00   142.70  ...  <ta.trend.PSARIndicator object at 0x7f87d6327f50>\n",
            "...                      ...  ...                                                ...\n",
            "2022-02-10 06:00:00  3172.91  ...  <ta.trend.PSARIndicator object at 0x7f87d6327f50>\n",
            "2022-02-10 07:00:00  3177.33  ...  <ta.trend.PSARIndicator object at 0x7f87d6327f50>\n",
            "2022-02-10 08:00:00  3187.91  ...  <ta.trend.PSARIndicator object at 0x7f87d6327f50>\n",
            "2022-02-10 09:00:00  3196.39  ...  <ta.trend.PSARIndicator object at 0x7f87d6327f50>\n",
            "2022-02-10 10:00:00  3211.95  ...  <ta.trend.PSARIndicator object at 0x7f87d6327f50>\n",
            "\n",
            "[19348 rows x 13 columns]\n"
          ]
        }
      ]
    },
    {
      "cell_type": "markdown",
      "source": [
        "# **Strategy Ichimoku with Test 100trades**"
      ],
      "metadata": {
        "id": "8G_Q61ClniPe"
      }
    },
    {
      "cell_type": "code",
      "source": [
        "dfTest = df.copy()\n",
        "dfTest = df['2019-12-01':'2020-12-01']"
      ],
      "metadata": {
        "id": "M-pderO_ns63"
      },
      "execution_count": null,
      "outputs": []
    },
    {
      "cell_type": "code",
      "source": [
        "dt = None"
      ],
      "metadata": {
        "id": "EZtE6IUK8ZUv"
      },
      "execution_count": null,
      "outputs": []
    },
    {
      "cell_type": "code",
      "source": [
        "dt = pd.DataFrame(columns=['date', 'position', 'reason',\n",
        "                           'price', 'frais', 'wallet', 'drawBack'])"
      ],
      "metadata": {
        "id": "pJ6v_vGrA1k5"
      },
      "execution_count": null,
      "outputs": []
    },
    {
      "cell_type": "markdown",
      "source": [
        "Configuration Levier et frais du broker ici FTX Futures"
      ],
      "metadata": {
        "id": "EvRnC-NUMQ6G"
      }
    },
    {
      "cell_type": "code",
      "source": [
        "leverage = 10\n",
        "wallet = 100\n",
        "makerFee = 0.0004\n",
        "takerFee = 0.0006"
      ],
      "metadata": {
        "id": "PPsqfHmNBrwA"
      },
      "execution_count": null,
      "outputs": []
    },
    {
      "cell_type": "code",
      "source": [
        "#DO NOT TOUCH THESE VALUES\n",
        "initalWallet = wallet\n",
        "lastAth = wallet\n",
        "previousRow = dfTest.iloc[0]\n",
        "stopLoss = 0\n",
        "takeProfit = 500000\n",
        "orderInProgress = ''\n",
        "longIniPrice = 0\n",
        "shortIniPrice = 0\n",
        "risk = 0 #Risk with risk percentage and wallet\n",
        "riskPercentage = 0.05 #5% risk "
      ],
      "metadata": {
        "id": "2rUfzCuWF2It"
      },
      "execution_count": null,
      "outputs": []
    },
    {
      "cell_type": "code",
      "source": [
        ""
      ],
      "metadata": {
        "id": "0vSQzYujQQo2"
      },
      "execution_count": null,
      "outputs": []
    },
    {
      "cell_type": "code",
      "source": [
        "def openLongCondition(row, previousRow):\n",
        "    if row['close']>row['EMA200'] and row['MACD SIGNAL']<0 and row['MACD LINE']<0 and row['MACD LINE']>row['MACD SIGNAL'] and previousRow['MACD LINE']<previousRow['MACD SIGNAL']:\n",
        "      return True\n",
        "    else:\n",
        "      return False"
      ],
      "metadata": {
        "id": "H4Y0ywz7GEjW"
      },
      "execution_count": null,
      "outputs": []
    },
    {
      "cell_type": "code",
      "source": [
        "# def closeLongCondition(row, previousRow):\n",
        "#   if row['price']<row['EMA 200']:\n",
        "#     return True\n",
        "#   else:\n",
        "#     return False"
      ],
      "metadata": {
        "id": "Noc0PzvlHeHz"
      },
      "execution_count": null,
      "outputs": []
    },
    {
      "cell_type": "code",
      "source": [
        "def openShortCondition(row, previousRow):\n",
        "  if row['close']>row['EMA200'] and row['MACD SIGNAL']<0 and row['MACD LINE']<0 and row['MACD LINE']<row['MACD SIGNAL'] and previousRow['MACD LINE']>previousRow['MACD SIGNAL']:\n",
        "    return True\n",
        "  else:\n",
        "    return False"
      ],
      "metadata": {
        "id": "BaxIQoGHL8oN"
      },
      "execution_count": null,
      "outputs": []
    },
    {
      "cell_type": "code",
      "source": [
        "# def closeShortCondition(row, previousRow):\n",
        "#   if row['Kijun']<row['Tenkan'] | row['SSA']<row['SSB']:\n",
        "#     return True\n",
        "#   else: \n",
        "#     return False"
      ],
      "metadata": {
        "id": "jUVTUM0MMN9U"
      },
      "execution_count": null,
      "outputs": []
    },
    {
      "cell_type": "code",
      "source": [
        "# -- Iteration on all your price dataset (df) --\n",
        "for index, row in dfTest.iterrows():\n",
        "\n",
        "  #-- If there is an order in long --\n",
        "  if orderInProgress == '':\n",
        "    if openLongCondition(row, previousRow) == True and wallet>1:\n",
        "      #You can define here at what price you buy\n",
        "      orderInProgress = 'LONG'\n",
        "      closePrice = row['close']\n",
        "      longIniPrice = row['close'] + takerFee * row['close']\n",
        "      print(\"Wallet before Long : \", wallet)\n",
        "      risk = wallet * 0.02\n",
        "      #Define the price of you SL and TP or comment it if you don't want a SL or TP\n",
        "      \n",
        "      stopLoss = row[ta.trend.psar_down(df['high'],  df['low'], df['close'])]\n",
        "      print(\"Stop Loss : \", stopLoss)\n",
        "      takeProfitPercentage = ((longIniPrice-stopLoss)/longIniPrice)*2 #Test with 2R\n",
        "      takeProfit = longIniPrice * 1+takeProfitPercentage #Price Takeprofit\n",
        "      tokenAmount = risk/((longIniPrice-stopLoss)/longIniPrice) #Amount in USD\n",
        "      \n",
        "      if tokenAmount > wallet:\n",
        "        leverage = 1+(int)(tokenAmount/wallet)\n",
        "      else:\n",
        "        leverage = 1 \n",
        "      print(\"Token Ammount Long : \", tokenAmount)\n",
        "      print('Open LONG at', closePrice, '$ the', index, '| Stop loss price :', stopLoss, '| Take Profit price :', takeProfit)\n",
        "      #long avec frais déduit\n",
        "\n",
        "      myrow = {'date': index, 'position': \"Open Long\", 'reason': 'Open Long Market', 'price': closePrice,\n",
        "                     'frais': takerFee * wallet * leverage, 'wallet': wallet, 'drawBack': (wallet-lastAth)/lastAth}\n",
        "      dt = dt.append(myrow, ignore_index=True)\n",
        "    if openShortCondition(row, previousRow) == True and wallet>1:\n",
        "      #You can define here at what price you short\n",
        "      orderInProgress = 'SHORT'\n",
        "      closePrice = row['close']\n",
        "      shortIniPrice = row['close'] - takerFee * row['close']  \n",
        "      print(\"Wallet before Short : \", wallet)\n",
        "      risk = wallet * 0.02\n",
        "      #Define the price of you SL and TP or comment it if you don't want a SL or TP\n",
        "      \n",
        "      stopLoss = row[ta.trend.psar_up(df['high'],  df['low'], df['close'])]\n",
        "      print(\"Stop Loss : \", stopLoss)\n",
        "      takeProfitPercentage = (-1*(longIniPrice-stopLoss)/longIniPrice)*2 #Test with 2R\n",
        "      takeProfit = longIniPrice * 1+takeProfitPercentage #Price Takeprofit\n",
        "      tokenAmount = risk/((longIniPrice-stopLoss)/longIniPrice) #Amount in USD\n",
        "      tokenAmount = (wallet * leverage) / row['close']\n",
        "\n",
        "      print(\"Qty Short: \", tokenAmount, \"ETH\")\n",
        "      \n",
        "       # -- Add the trade to DT to analyse it later --\n",
        "      myrow = {'date': index, 'position': \"Open Short\", 'reason': 'Open Short Market', 'price': closePrice,\n",
        "                    'frais': takerFee * wallet * leverage, 'wallet': wallet, 'drawBack': (wallet-lastAth)/lastAth}\n",
        "      dt = dt.append(myrow, ignore_index=True)\n",
        "  if orderInProgress != '':\n",
        "    if orderInProgress == 'LONG':\n",
        "      #STOP LOSS\n",
        "      if row['low'] < stopLoss:\n",
        "        orderInProgress = ''\n",
        "        closePrice = stopLoss \n",
        "        closePriceWithFee = closePrice - takerFee * closePrice\n",
        "        pr_change = (closePriceWithFee - longIniPrice) / longIniPrice\n",
        "        wallet = wallet + wallet*pr_change*leverage \n",
        "\n",
        "         # -- You can uncomment the line below if you want to see logs --\n",
        "        print('Close LONG at',closePrice,\"the\", index, '| wallet :', wallet,\n",
        "        '| result :', pr_change*100*leverage)\n",
        "        if wallet > lastAth:\n",
        "          lastAth = wallet\n",
        "\n",
        "        # print(\"Sell COIN at Stop Loss\",sellPrice,'$ the', index)\n",
        "        myrow = {'date': index, 'position': \"SHORT\", 'reason': 'Stop Loss Short', 'price': closePrice,\n",
        "                        'frais': takerFee * wallet * leverage, 'wallet': wallet, 'drawBack': (wallet-lastAth)/lastAth}\n",
        "        dt = dt.append(myrow, ignore_index=True)\n",
        "      #Take Profit\n",
        "      elif row['high'] > takeProfit:\n",
        "        orderInProgress = ''\n",
        "        closePrice = takeProfit \n",
        "        closePriceWithFee = closePrice - takerFee * closePrice\n",
        "        pr_change = (closePriceWithFee - longIniPrice) / longIniPrice\n",
        "        wallet = wallet + wallet*pr_change*leverage\n",
        "        print('Close LONG at',closePrice,\"the\", index, '| wallet :', wallet,\n",
        "        '| result :', pr_change*100*leverage)\n",
        "        # -- Check if your wallet hit a new ATH to know the drawBack --\n",
        "        if wallet > lastAth:\n",
        "          lastAth = wallet\n",
        "\n",
        "        # print(\"Sell COIN at Stop Loss\",sellPrice,'$ the', index)\n",
        "        myrow = {'date': index, 'position': \"SHORT\", 'reason':  'Take Profit Short', 'price': closePrice,\n",
        "                        'frais': takerFee * wallet * leverage, 'wallet': wallet, 'drawBack': (wallet-lastAth)/lastAth}\n",
        "        dt = dt.append(myrow, ignore_index=True)\n",
        "    elif orderInProgress == 'SHORT':\n",
        "      #STOP LOSS Short\n",
        "      if row['high'] > stopLoss:  \n",
        "        orderInProgress = ''\n",
        "        closePrice = stopLoss\n",
        "        closePriceWithFee = closePrice + takerFee * closePrice\n",
        "        pr_change = -(closePriceWithFee - shortIniPrice) / shortIniPrice\n",
        "        wallet = wallet + wallet*pr_change*leverage\n",
        "\n",
        "        # -- You can uncomment the line below if you want to see logs --\n",
        "        print('Close SHORT at',closePrice,\"the\", index, '| wallet :', wallet,\n",
        "        '| result :', pr_change*100*leverage)\n",
        "\n",
        "        # -- Check if your wallet hit a new ATH to know the drawBack --\n",
        "        if wallet > lastAth:\n",
        "          lastAth = wallet\n",
        "\n",
        "        # -- Add the trade to DT to analyse it later --\n",
        "        myrow = {'date': index, 'position': \"SHORT\", 'reason': 'Stop Loss Short', 'price': closePrice,\n",
        "          'frais': takerFee * wallet * leverage, 'wallet': wallet, 'drawBack': (wallet-lastAth)/lastAth}\n",
        "        dt = dt.append(myrow, ignore_index=True)\n",
        "      #Take Profit Short\n",
        "      elif row['low'] < takeProfit:\n",
        "        orderInProgress = ''\n",
        "        closePrice = takeProfit\n",
        "        closePriceWithFee = closePrice + takerFee * closePrice\n",
        "        pr_change = -(closePriceWithFee - shortIniPrice) / shortIniPrice\n",
        "        wallet = wallet + wallet*pr_change*leverage\n",
        "\n",
        "        # -- You can uncomment the line below if you want to see logs --\n",
        "        print('Close SHORT at',closePrice,\"the\", index, '| wallet :', wallet,\n",
        "        '| result :', pr_change*100*leverage)\n",
        "\n",
        "        # -- Check if your wallet hit a new ATH to know the drawBack --\n",
        "        if wallet > lastAth:\n",
        "          lastAth = wallet\n",
        "\n",
        "        # -- Add the trade to DT to analyse it later --\n",
        "        myrow = {'date': index, 'position': \"SHORT\", 'reason': 'Take Profit Short', 'price': closePrice,\n",
        "          'frais': takerFee * wallet * leverage, 'wallet': wallet, 'drawBack': (wallet-lastAth)/lastAth}\n",
        "        dt = dt.append(myrow, ignore_index=True)\n",
        "\n",
        "\n",
        "\n"
      ],
      "metadata": {
        "id": "UfRpnd4XMhNP",
        "colab": {
          "base_uri": "https://localhost:8080/",
          "height": 467
        },
        "outputId": "f9dae06e-ea3a-4bd1-d4b1-bfd4a21fa2d9"
      },
      "execution_count": null,
      "outputs": [
        {
          "output_type": "stream",
          "name": "stdout",
          "text": [
            "Wallet before Long :  100\n"
          ]
        },
        {
          "output_type": "error",
          "ename": "KeyError",
          "evalue": "ignored",
          "traceback": [
            "\u001b[0;31m---------------------------------------------------------------------------\u001b[0m",
            "\u001b[0;31mKeyError\u001b[0m                                  Traceback (most recent call last)",
            "\u001b[0;32m<ipython-input-21-d632aaefe11a>\u001b[0m in \u001b[0;36m<module>\u001b[0;34m()\u001b[0m\n\u001b[1;32m     13\u001b[0m       \u001b[0;31m#Define the price of you SL and TP or comment it if you don't want a SL or TP\u001b[0m\u001b[0;34m\u001b[0m\u001b[0;34m\u001b[0m\u001b[0;34m\u001b[0m\u001b[0m\n\u001b[1;32m     14\u001b[0m \u001b[0;34m\u001b[0m\u001b[0m\n\u001b[0;32m---> 15\u001b[0;31m       \u001b[0mstopLoss\u001b[0m \u001b[0;34m=\u001b[0m \u001b[0mrow\u001b[0m\u001b[0;34m[\u001b[0m\u001b[0mta\u001b[0m\u001b[0;34m.\u001b[0m\u001b[0mtrend\u001b[0m\u001b[0;34m.\u001b[0m\u001b[0mpsar_down\u001b[0m\u001b[0;34m(\u001b[0m\u001b[0mdf\u001b[0m\u001b[0;34m[\u001b[0m\u001b[0;34m'high'\u001b[0m\u001b[0;34m]\u001b[0m\u001b[0;34m,\u001b[0m  \u001b[0mdf\u001b[0m\u001b[0;34m[\u001b[0m\u001b[0;34m'low'\u001b[0m\u001b[0;34m]\u001b[0m\u001b[0;34m,\u001b[0m \u001b[0mdf\u001b[0m\u001b[0;34m[\u001b[0m\u001b[0;34m'close'\u001b[0m\u001b[0;34m]\u001b[0m\u001b[0;34m)\u001b[0m\u001b[0;34m]\u001b[0m\u001b[0;34m\u001b[0m\u001b[0;34m\u001b[0m\u001b[0m\n\u001b[0m\u001b[1;32m     16\u001b[0m       \u001b[0mprint\u001b[0m\u001b[0;34m(\u001b[0m\u001b[0;34m\"Stop Loss : \"\u001b[0m\u001b[0;34m,\u001b[0m \u001b[0mstopLoss\u001b[0m\u001b[0;34m)\u001b[0m\u001b[0;34m\u001b[0m\u001b[0;34m\u001b[0m\u001b[0m\n\u001b[1;32m     17\u001b[0m       \u001b[0mtakeProfitPercentage\u001b[0m \u001b[0;34m=\u001b[0m \u001b[0;34m(\u001b[0m\u001b[0;34m(\u001b[0m\u001b[0mlongIniPrice\u001b[0m\u001b[0;34m-\u001b[0m\u001b[0mstopLoss\u001b[0m\u001b[0;34m)\u001b[0m\u001b[0;34m/\u001b[0m\u001b[0mlongIniPrice\u001b[0m\u001b[0;34m)\u001b[0m\u001b[0;34m*\u001b[0m\u001b[0;36m2\u001b[0m \u001b[0;31m#Test with 2R\u001b[0m\u001b[0;34m\u001b[0m\u001b[0;34m\u001b[0m\u001b[0m\n",
            "\u001b[0;32m/usr/local/lib/python3.7/dist-packages/pandas/core/series.py\u001b[0m in \u001b[0;36m__getitem__\u001b[0;34m(self, key)\u001b[0m\n\u001b[1;32m    964\u001b[0m             \u001b[0;32mreturn\u001b[0m \u001b[0mself\u001b[0m\u001b[0;34m.\u001b[0m\u001b[0m_get_values\u001b[0m\u001b[0;34m(\u001b[0m\u001b[0mkey\u001b[0m\u001b[0;34m)\u001b[0m\u001b[0;34m\u001b[0m\u001b[0;34m\u001b[0m\u001b[0m\n\u001b[1;32m    965\u001b[0m \u001b[0;34m\u001b[0m\u001b[0m\n\u001b[0;32m--> 966\u001b[0;31m         \u001b[0;32mreturn\u001b[0m \u001b[0mself\u001b[0m\u001b[0;34m.\u001b[0m\u001b[0m_get_with\u001b[0m\u001b[0;34m(\u001b[0m\u001b[0mkey\u001b[0m\u001b[0;34m)\u001b[0m\u001b[0;34m\u001b[0m\u001b[0;34m\u001b[0m\u001b[0m\n\u001b[0m\u001b[1;32m    967\u001b[0m \u001b[0;34m\u001b[0m\u001b[0m\n\u001b[1;32m    968\u001b[0m     \u001b[0;32mdef\u001b[0m \u001b[0m_get_with\u001b[0m\u001b[0;34m(\u001b[0m\u001b[0mself\u001b[0m\u001b[0;34m,\u001b[0m \u001b[0mkey\u001b[0m\u001b[0;34m)\u001b[0m\u001b[0;34m:\u001b[0m\u001b[0;34m\u001b[0m\u001b[0;34m\u001b[0m\u001b[0m\n",
            "\u001b[0;32m/usr/local/lib/python3.7/dist-packages/pandas/core/series.py\u001b[0m in \u001b[0;36m_get_with\u001b[0;34m(self, key)\u001b[0m\n\u001b[1;32m   1004\u001b[0m \u001b[0;34m\u001b[0m\u001b[0m\n\u001b[1;32m   1005\u001b[0m         \u001b[0;31m# handle the dup indexing case GH#4246\u001b[0m\u001b[0;34m\u001b[0m\u001b[0;34m\u001b[0m\u001b[0;34m\u001b[0m\u001b[0m\n\u001b[0;32m-> 1006\u001b[0;31m         \u001b[0;32mreturn\u001b[0m \u001b[0mself\u001b[0m\u001b[0;34m.\u001b[0m\u001b[0mloc\u001b[0m\u001b[0;34m[\u001b[0m\u001b[0mkey\u001b[0m\u001b[0;34m]\u001b[0m\u001b[0;34m\u001b[0m\u001b[0;34m\u001b[0m\u001b[0m\n\u001b[0m\u001b[1;32m   1007\u001b[0m \u001b[0;34m\u001b[0m\u001b[0m\n\u001b[1;32m   1008\u001b[0m     \u001b[0;32mdef\u001b[0m \u001b[0m_get_values_tuple\u001b[0m\u001b[0;34m(\u001b[0m\u001b[0mself\u001b[0m\u001b[0;34m,\u001b[0m \u001b[0mkey\u001b[0m\u001b[0;34m)\u001b[0m\u001b[0;34m:\u001b[0m\u001b[0;34m\u001b[0m\u001b[0;34m\u001b[0m\u001b[0m\n",
            "\u001b[0;32m/usr/local/lib/python3.7/dist-packages/pandas/core/indexing.py\u001b[0m in \u001b[0;36m__getitem__\u001b[0;34m(self, key)\u001b[0m\n\u001b[1;32m    929\u001b[0m \u001b[0;34m\u001b[0m\u001b[0m\n\u001b[1;32m    930\u001b[0m             \u001b[0mmaybe_callable\u001b[0m \u001b[0;34m=\u001b[0m \u001b[0mcom\u001b[0m\u001b[0;34m.\u001b[0m\u001b[0mapply_if_callable\u001b[0m\u001b[0;34m(\u001b[0m\u001b[0mkey\u001b[0m\u001b[0;34m,\u001b[0m \u001b[0mself\u001b[0m\u001b[0;34m.\u001b[0m\u001b[0mobj\u001b[0m\u001b[0;34m)\u001b[0m\u001b[0;34m\u001b[0m\u001b[0;34m\u001b[0m\u001b[0m\n\u001b[0;32m--> 931\u001b[0;31m             \u001b[0;32mreturn\u001b[0m \u001b[0mself\u001b[0m\u001b[0;34m.\u001b[0m\u001b[0m_getitem_axis\u001b[0m\u001b[0;34m(\u001b[0m\u001b[0mmaybe_callable\u001b[0m\u001b[0;34m,\u001b[0m \u001b[0maxis\u001b[0m\u001b[0;34m=\u001b[0m\u001b[0maxis\u001b[0m\u001b[0;34m)\u001b[0m\u001b[0;34m\u001b[0m\u001b[0;34m\u001b[0m\u001b[0m\n\u001b[0m\u001b[1;32m    932\u001b[0m \u001b[0;34m\u001b[0m\u001b[0m\n\u001b[1;32m    933\u001b[0m     \u001b[0;32mdef\u001b[0m \u001b[0m_is_scalar_access\u001b[0m\u001b[0;34m(\u001b[0m\u001b[0mself\u001b[0m\u001b[0;34m,\u001b[0m \u001b[0mkey\u001b[0m\u001b[0;34m:\u001b[0m \u001b[0mtuple\u001b[0m\u001b[0;34m)\u001b[0m\u001b[0;34m:\u001b[0m\u001b[0;34m\u001b[0m\u001b[0;34m\u001b[0m\u001b[0m\n",
            "\u001b[0;32m/usr/local/lib/python3.7/dist-packages/pandas/core/indexing.py\u001b[0m in \u001b[0;36m_getitem_axis\u001b[0;34m(self, key, axis)\u001b[0m\n\u001b[1;32m   1151\u001b[0m                     \u001b[0;32mraise\u001b[0m \u001b[0mValueError\u001b[0m\u001b[0;34m(\u001b[0m\u001b[0;34m\"Cannot index with multidimensional key\"\u001b[0m\u001b[0;34m)\u001b[0m\u001b[0;34m\u001b[0m\u001b[0;34m\u001b[0m\u001b[0m\n\u001b[1;32m   1152\u001b[0m \u001b[0;34m\u001b[0m\u001b[0m\n\u001b[0;32m-> 1153\u001b[0;31m                 \u001b[0;32mreturn\u001b[0m \u001b[0mself\u001b[0m\u001b[0;34m.\u001b[0m\u001b[0m_getitem_iterable\u001b[0m\u001b[0;34m(\u001b[0m\u001b[0mkey\u001b[0m\u001b[0;34m,\u001b[0m \u001b[0maxis\u001b[0m\u001b[0;34m=\u001b[0m\u001b[0maxis\u001b[0m\u001b[0;34m)\u001b[0m\u001b[0;34m\u001b[0m\u001b[0;34m\u001b[0m\u001b[0m\n\u001b[0m\u001b[1;32m   1154\u001b[0m \u001b[0;34m\u001b[0m\u001b[0m\n\u001b[1;32m   1155\u001b[0m             \u001b[0;31m# nested tuple slicing\u001b[0m\u001b[0;34m\u001b[0m\u001b[0;34m\u001b[0m\u001b[0;34m\u001b[0m\u001b[0m\n",
            "\u001b[0;32m/usr/local/lib/python3.7/dist-packages/pandas/core/indexing.py\u001b[0m in \u001b[0;36m_getitem_iterable\u001b[0;34m(self, key, axis)\u001b[0m\n\u001b[1;32m   1091\u001b[0m \u001b[0;34m\u001b[0m\u001b[0m\n\u001b[1;32m   1092\u001b[0m         \u001b[0;31m# A collection of keys\u001b[0m\u001b[0;34m\u001b[0m\u001b[0;34m\u001b[0m\u001b[0;34m\u001b[0m\u001b[0m\n\u001b[0;32m-> 1093\u001b[0;31m         \u001b[0mkeyarr\u001b[0m\u001b[0;34m,\u001b[0m \u001b[0mindexer\u001b[0m \u001b[0;34m=\u001b[0m \u001b[0mself\u001b[0m\u001b[0;34m.\u001b[0m\u001b[0m_get_listlike_indexer\u001b[0m\u001b[0;34m(\u001b[0m\u001b[0mkey\u001b[0m\u001b[0;34m,\u001b[0m \u001b[0maxis\u001b[0m\u001b[0;34m)\u001b[0m\u001b[0;34m\u001b[0m\u001b[0;34m\u001b[0m\u001b[0m\n\u001b[0m\u001b[1;32m   1094\u001b[0m         return self.obj._reindex_with_indexers(\n\u001b[1;32m   1095\u001b[0m             \u001b[0;34m{\u001b[0m\u001b[0maxis\u001b[0m\u001b[0;34m:\u001b[0m \u001b[0;34m[\u001b[0m\u001b[0mkeyarr\u001b[0m\u001b[0;34m,\u001b[0m \u001b[0mindexer\u001b[0m\u001b[0;34m]\u001b[0m\u001b[0;34m}\u001b[0m\u001b[0;34m,\u001b[0m \u001b[0mcopy\u001b[0m\u001b[0;34m=\u001b[0m\u001b[0;32mTrue\u001b[0m\u001b[0;34m,\u001b[0m \u001b[0mallow_dups\u001b[0m\u001b[0;34m=\u001b[0m\u001b[0;32mTrue\u001b[0m\u001b[0;34m\u001b[0m\u001b[0;34m\u001b[0m\u001b[0m\n",
            "\u001b[0;32m/usr/local/lib/python3.7/dist-packages/pandas/core/indexing.py\u001b[0m in \u001b[0;36m_get_listlike_indexer\u001b[0;34m(self, key, axis)\u001b[0m\n\u001b[1;32m   1312\u001b[0m             \u001b[0mkeyarr\u001b[0m\u001b[0;34m,\u001b[0m \u001b[0mindexer\u001b[0m\u001b[0;34m,\u001b[0m \u001b[0mnew_indexer\u001b[0m \u001b[0;34m=\u001b[0m \u001b[0max\u001b[0m\u001b[0;34m.\u001b[0m\u001b[0m_reindex_non_unique\u001b[0m\u001b[0;34m(\u001b[0m\u001b[0mkeyarr\u001b[0m\u001b[0;34m)\u001b[0m\u001b[0;34m\u001b[0m\u001b[0;34m\u001b[0m\u001b[0m\n\u001b[1;32m   1313\u001b[0m \u001b[0;34m\u001b[0m\u001b[0m\n\u001b[0;32m-> 1314\u001b[0;31m         \u001b[0mself\u001b[0m\u001b[0;34m.\u001b[0m\u001b[0m_validate_read_indexer\u001b[0m\u001b[0;34m(\u001b[0m\u001b[0mkeyarr\u001b[0m\u001b[0;34m,\u001b[0m \u001b[0mindexer\u001b[0m\u001b[0;34m,\u001b[0m \u001b[0maxis\u001b[0m\u001b[0;34m)\u001b[0m\u001b[0;34m\u001b[0m\u001b[0;34m\u001b[0m\u001b[0m\n\u001b[0m\u001b[1;32m   1315\u001b[0m \u001b[0;34m\u001b[0m\u001b[0m\n\u001b[1;32m   1316\u001b[0m         if needs_i8_conversion(ax.dtype) or isinstance(\n",
            "\u001b[0;32m/usr/local/lib/python3.7/dist-packages/pandas/core/indexing.py\u001b[0m in \u001b[0;36m_validate_read_indexer\u001b[0;34m(self, key, indexer, axis)\u001b[0m\n\u001b[1;32m   1372\u001b[0m                 \u001b[0;32mif\u001b[0m \u001b[0muse_interval_msg\u001b[0m\u001b[0;34m:\u001b[0m\u001b[0;34m\u001b[0m\u001b[0;34m\u001b[0m\u001b[0m\n\u001b[1;32m   1373\u001b[0m                     \u001b[0mkey\u001b[0m \u001b[0;34m=\u001b[0m \u001b[0mlist\u001b[0m\u001b[0;34m(\u001b[0m\u001b[0mkey\u001b[0m\u001b[0;34m)\u001b[0m\u001b[0;34m\u001b[0m\u001b[0;34m\u001b[0m\u001b[0m\n\u001b[0;32m-> 1374\u001b[0;31m                 \u001b[0;32mraise\u001b[0m \u001b[0mKeyError\u001b[0m\u001b[0;34m(\u001b[0m\u001b[0;34mf\"None of [{key}] are in the [{axis_name}]\"\u001b[0m\u001b[0;34m)\u001b[0m\u001b[0;34m\u001b[0m\u001b[0;34m\u001b[0m\u001b[0m\n\u001b[0m\u001b[1;32m   1375\u001b[0m \u001b[0;34m\u001b[0m\u001b[0m\n\u001b[1;32m   1376\u001b[0m             \u001b[0mnot_found\u001b[0m \u001b[0;34m=\u001b[0m \u001b[0mlist\u001b[0m\u001b[0;34m(\u001b[0m\u001b[0mensure_index\u001b[0m\u001b[0;34m(\u001b[0m\u001b[0mkey\u001b[0m\u001b[0;34m)\u001b[0m\u001b[0;34m[\u001b[0m\u001b[0mmissing_mask\u001b[0m\u001b[0;34m.\u001b[0m\u001b[0mnonzero\u001b[0m\u001b[0;34m(\u001b[0m\u001b[0;34m)\u001b[0m\u001b[0;34m[\u001b[0m\u001b[0;36m0\u001b[0m\u001b[0;34m]\u001b[0m\u001b[0;34m]\u001b[0m\u001b[0;34m.\u001b[0m\u001b[0munique\u001b[0m\u001b[0;34m(\u001b[0m\u001b[0;34m)\u001b[0m\u001b[0;34m)\u001b[0m\u001b[0;34m\u001b[0m\u001b[0;34m\u001b[0m\u001b[0m\n",
            "\u001b[0;31mKeyError\u001b[0m: \"None of [Float64Index([               nan,                nan,              146.0,\\n                          145.74,                nan,                nan,\\n                             nan,                nan,                nan,\\n                             nan,\\n              ...\\n                        3267.921,         3265.42496,       3260.4824624,\\n              3253.0846654079996, 3243.3761988671995, 3232.7842550031355,\\n               3223.463344402759,  3215.260943074428,                nan,\\n                             nan],\\n             dtype='float64', length=19348)] are in the [index]\""
          ]
        }
      ]
    },
    {
      "cell_type": "code",
      "source": [
        "# -- Iteration on all your price dataset (df) --\n",
        "for index, row in dfTest.iterrows():\n",
        "\n",
        "  #-- If there is an order in long --\n",
        "  if orderInProgress == '':\n",
        "    if openLongCondition(row, previousRow) == True and wallet>1:\n",
        "      #You can define here at what price you buy\n",
        "      orderInProgress = 'LONG'\n",
        "      closePrice = row['close']\n",
        "      longIniPrice = row['close'] + takerFee * row['close']\n",
        "      print(\"Wallet before Long : \", wallet)\n",
        "      risk = wallet * 0.02\n",
        "      #Define the price of you SL and TP or comment it if you don't want a SL or TP\n",
        "      \n",
        "      stopLoss = df['PSAR']\n",
        "      print(\"Stop Loss : \", stopLoss)\n",
        "      takeProfitPercentage = ((longIniPrice-stopLoss)/longIniPrice)*2 #Test with 2R\n",
        "      takeProfit = longIniPrice * 1+takeProfitPercentage #Price Takeprofit\n",
        "      tokenAmount = risk/((longIniPrice-stopLoss)/longIniPrice) #Amount in USD\n",
        "      \n",
        "      if tokenAmount > wallet:\n",
        "        leverage = 1+(int)(tokenAmount/wallet)\n",
        "      else:\n",
        "        leverage = 1 \n",
        "      print(\"Token Ammount Long : \", tokenAmount, \"USD\")\n",
        "      print('Open LONG at', closePrice, '$ the', index, '| Stop loss price :', stopLoss, '| Take Profit price :', takeProfit)\n",
        "      #long with fees\n",
        "\n",
        "      myrow = {'date': index, 'position': \"Open Long\", 'reason': 'Open Long Market', 'price': closePrice,\n",
        "                     'frais': takerFee * wallet * leverage, 'wallet': wallet, 'drawBack': (wallet-lastAth)/lastAth}\n",
        "      dt = dt.append(myrow, ignore_index=True)\n",
        "    if openShortCondition(row, previousRow) == True and wallet>1:\n",
        "      #You can define here at what price you short\n",
        "      orderInProgress = 'SHORT'\n",
        "      closePrice = row['close']\n",
        "      shortIniPrice = row['close'] - takerFee * row['close']  \n",
        "      print(\"Wallet before Short : \", wallet)\n",
        "      risk = wallet * 0.02\n",
        "      stopLoss = df['PSAR']\n",
        "      print(\"Stop Loss : \", stopLoss)\n",
        "      takeProfitPercentage = (-1*(shortIniPrice-stopLoss)/shortIniPrice)*2 #Test with 2R\n",
        "      takeProfit = shortIniPrice * (1+takeProfitPercentage) #Price Takeprofit\n",
        "      tokenAmount = -risk/((shortIniPrice-stopLoss)/shortIniPrice) #Amount in USD\n",
        "\n",
        "      if tokenAmount > wallet and tokenAmount/wallet <= 10:\n",
        "        leverage = 1+(int)(tokenAmount/wallet)\n",
        "      elif tokenAmount > wallet and tokenAmount/wallet > 10:\n",
        "        leverage = 20\n",
        "      else:\n",
        "        leverage = 1  \n",
        "      print(\"Qty Short: \", tokenAmount, \"USD\")\n",
        "      \n",
        "       # -- Add the trade to DT to analyse it later --\n",
        "      myrow = {'date': index, 'position': \"Open Short\", 'reason': 'Open Short Market', 'price': closePrice,\n",
        "                    'frais': takerFee * wallet * leverage, 'wallet': wallet, 'drawBack': (wallet-lastAth)/lastAth}\n",
        "      dt = dt.append(myrow, ignore_index=True)\n",
        "  if orderInProgress != '':\n",
        "    if orderInProgress == 'LONG':\n",
        "      #STOP LOSS\n",
        "      if row['low'] < stopLoss:\n",
        "        orderInProgress = ''\n",
        "        closePrice = stopLoss \n",
        "        closePriceWithFee = closePrice - takerFee * closePrice\n",
        "        pr_change = (closePriceWithFee - longIniPrice) / longIniPrice\n",
        "        wallet = wallet + wallet*pr_change*leverage \n",
        "\n",
        "         # -- You can uncomment the line below if you want to see logs --\n",
        "        print('Close LONG at',closePrice,\"the\", index, '| wallet :', wallet,\n",
        "        '| result :', pr_change*100*leverage)\n",
        "        if wallet > lastAth:\n",
        "          lastAth = wallet\n",
        "\n",
        "        # print(\"Sell COIN at Stop Loss\",sellPrice,'$ the', index)\n",
        "        myrow = {'date': index, 'position': \"SHORT\", 'reason': 'Stop Loss Short', 'price': closePrice,\n",
        "                        'frais': takerFee * wallet * leverage, 'wallet': wallet, 'drawBack': (wallet-lastAth)/lastAth}\n",
        "        dt = dt.append(myrow, ignore_index=True)\n",
        "      #Take Profit\n",
        "      elif row['high'] > takeProfit:\n",
        "        orderInProgress = ''\n",
        "        closePrice = takeProfit \n",
        "        closePriceWithFee = closePrice - takerFee * closePrice\n",
        "        pr_change = (closePriceWithFee - longIniPrice) / longIniPrice\n",
        "        wallet = wallet + wallet*pr_change*leverage\n",
        "        print('Close LONG at',closePrice,\"the\", index, '| wallet :', wallet,\n",
        "        '| result :', pr_change*100*leverage)\n",
        "        # -- Check if your wallet hit a new ATH to know the drawBack --\n",
        "        if wallet > lastAth:\n",
        "          lastAth = wallet\n",
        "\n",
        "        # print(\"Sell COIN at Stop Loss\",sellPrice,'$ the', index)\n",
        "        myrow = {'date': index, 'position': \"SHORT\", 'reason':  'Take Profit Short', 'price': closePrice,\n",
        "                        'frais': takerFee * wallet * leverage, 'wallet': wallet, 'drawBack': (wallet-lastAth)/lastAth}\n",
        "        dt = dt.append(myrow, ignore_index=True)\n",
        "    elif orderInProgress == 'SHORT':\n",
        "      #STOP LOSS Short\n",
        "      if row['high'] > stopLoss:  \n",
        "        orderInProgress = ''\n",
        "        closePrice = stopLoss\n",
        "        closePriceWithFee = closePrice + takerFee * closePrice\n",
        "        pr_change = -(closePriceWithFee - shortIniPrice) / shortIniPrice\n",
        "        wallet = wallet + wallet*pr_change*leverage\n",
        "\n",
        "        # -- You can uncomment the line below if you want to see logs --\n",
        "        print('Close SHORT at',closePrice,\"the\", index, '| wallet :', wallet,\n",
        "        '| result :', pr_change*100*leverage)\n",
        "\n",
        "        # -- Check if your wallet hit a new ATH to know the drawBack --\n",
        "        if wallet > lastAth:\n",
        "          lastAth = wallet\n",
        "\n",
        "        # -- Add the trade to DT to analyse it later --\n",
        "        myrow = {'date': index, 'position': \"SHORT\", 'reason': 'Stop Loss Short', 'price': closePrice,\n",
        "          'frais': takerFee * wallet * leverage, 'wallet': wallet, 'drawBack': (wallet-lastAth)/lastAth}\n",
        "        dt = dt.append(myrow, ignore_index=True)\n",
        "      #Take Profit Short\n",
        "      elif row['low'] < takeProfit:\n",
        "        orderInProgress = ''\n",
        "        closePrice = takeProfit\n",
        "        closePriceWithFee = closePrice + takerFee * closePrice\n",
        "        pr_change = -(closePriceWithFee - shortIniPrice) / shortIniPrice\n",
        "        wallet = wallet + wallet*pr_change*leverage\n",
        "\n",
        "        # -- You can uncomment the line below if you want to see logs --\n",
        "        print('Close SHORT at',closePrice,\"the\", index, '| wallet :', wallet,\n",
        "        '| result :', pr_change*100*leverage)\n",
        "\n",
        "        # -- Check if your wallet hit a new ATH to know the drawBack --\n",
        "        if wallet > lastAth:\n",
        "          lastAth = wallet\n",
        "\n",
        "        # -- Add the trade to DT to analyse it later --\n",
        "        myrow = {'date': index, 'position': \"SHORT\", 'reason': 'Take Profit Short', 'price': closePrice,\n",
        "          'frais': takerFee * wallet * leverage, 'wallet': wallet, 'drawBack': (wallet-lastAth)/lastAth}\n",
        "        dt = dt.append(myrow, ignore_index=True)\n",
        "\n",
        "\n",
        "\n"
      ],
      "metadata": {
        "id": "ksMkeZQMJiyw"
      },
      "execution_count": null,
      "outputs": []
    },
    {
      "cell_type": "code",
      "source": [
        "# -- BackTest Analyses --\n",
        "dt = dt.set_index(dt['date'])\n",
        "dt.index = pd.to_datetime(dt.index)\n",
        "dt['resultat%'] = dt['wallet'].pct_change()*100\n",
        "\n",
        "dt['tradeIs'] = ''\n",
        "dt.loc[dt['resultat%'] > 0, 'tradeIs'] = 'Good'\n",
        "dt.loc[dt['resultat%'] < 0, 'tradeIs'] = 'Bad'\n",
        "\n",
        "iniClose = dfTest.iloc[0]['close']\n",
        "lastClose = dfTest.iloc[len(dfTest)-1]['close']\n",
        "holdPercentage = ((lastClose - iniClose)/iniClose)\n",
        "holdWallet = holdPercentage * leverage * initalWallet\n",
        "algoPercentage = ((wallet - initalWallet)/initalWallet)\n",
        "vsHoldPercentage = ((wallet - holdWallet)/holdWallet) * 100\n",
        "\n",
        "try:\n",
        "    tradesPerformance = round(dt.loc[(dt['tradeIs'] == 'Good') | (dt['tradeIs'] == 'Bad'), 'resultat%'].sum()\n",
        "            / dt.loc[(dt['tradeIs'] == 'Good') | (dt['tradeIs'] == 'Bad'), 'resultat%'].count(), 2)\n",
        "except:\n",
        "    tradesPerformance = 0\n",
        "    print(\"/!\\ There is no Good or Bad Trades in your BackTest, maybe a problem...\")\n",
        "\n",
        "try:\n",
        "    TotalGoodTrades = dt.groupby('tradeIs')['date'].nunique()['Good']\n",
        "    AveragePercentagePositivTrades = round(dt.loc[dt['tradeIs'] == 'Good', 'resultat%'].sum()\n",
        "                                           / dt.loc[dt['tradeIs'] == 'Good', 'resultat%'].count(), 2)\n",
        "    idbest = dt.loc[dt['tradeIs'] == 'Good', 'resultat%'].idxmax()\n",
        "    bestTrade = str(\n",
        "        round(dt.loc[dt['tradeIs'] == 'Good', 'resultat%'].max(), 2))\n",
        "except:\n",
        "    TotalGoodTrades = 0\n",
        "    AveragePercentagePositivTrades = 0\n",
        "    idbest = ''\n",
        "    bestTrade = 0\n",
        "    print(\"/!\\ There is no Good Trades in your BackTest, maybe a problem...\")\n",
        "\n",
        "try:\n",
        "    TotalBadTrades = dt.groupby('tradeIs')['date'].nunique()['Bad']\n",
        "    AveragePercentageNegativTrades = round(dt.loc[dt['tradeIs'] == 'Bad', 'resultat%'].sum()\n",
        "                                           / dt.loc[dt['tradeIs'] == 'Bad', 'resultat%'].count(), 2)\n",
        "    idworst = dt.loc[dt['tradeIs'] == 'Bad', 'resultat%'].idxmin()\n",
        "    worstTrade = round(dt.loc[dt['tradeIs'] == 'Bad', 'resultat%'].min(), 2)\n",
        "except:\n",
        "    TotalBadTrades = 0\n",
        "    AveragePercentageNegativTrades = 0\n",
        "    idworst = ''\n",
        "    worstTrade = 0\n",
        "    print(\"/!\\ There is no Bad Trades in your BackTest, maybe a problem...\")\n",
        "\n",
        "totalTrades = TotalBadTrades + TotalGoodTrades\n",
        "\n",
        "try:\n",
        "    TotalLongTrades = dt.groupby('position')['date'].nunique()['LONG']\n",
        "    AverageLongTrades = round(dt.loc[dt['position'] == 'LONG', 'resultat%'].sum()\n",
        "                              / dt.loc[dt['position'] == 'LONG', 'resultat%'].count(), 2)\n",
        "    idBestLong = dt.loc[dt['position'] == 'LONG', 'resultat%'].idxmax()\n",
        "    bestLongTrade = str(\n",
        "        round(dt.loc[dt['position'] == 'LONG', 'resultat%'].max(), 2))\n",
        "    idWorstLong = dt.loc[dt['position'] == 'LONG', 'resultat%'].idxmin()\n",
        "    worstLongTrade = str(\n",
        "        round(dt.loc[dt['position'] == 'LONG', 'resultat%'].min(), 2))\n",
        "except:\n",
        "    AverageLongTrades = 0\n",
        "    TotalLongTrades = 0\n",
        "    bestLongTrade = ''\n",
        "    idBestLong = ''\n",
        "    idWorstLong = ''\n",
        "    worstLongTrade = ''\n",
        "    print(\"/!\\ There is no LONG Trades in your BackTest, maybe a problem...\")\n",
        "\n",
        "try:\n",
        "    TotalShortTrades = dt.groupby('position')['date'].nunique()['SHORT']\n",
        "    AverageShortTrades = round(dt.loc[dt['position'] == 'SHORT', 'resultat%'].sum()\n",
        "                               / dt.loc[dt['position'] == 'SHORT', 'resultat%'].count(), 2)\n",
        "    idBestShort = dt.loc[dt['position'] == 'SHORT', 'resultat%'].idxmax()\n",
        "    bestShortTrade = str(\n",
        "        round(dt.loc[dt['position'] == 'SHORT', 'resultat%'].max(), 2))\n",
        "    idWorstShort = dt.loc[dt['position'] == 'SHORT', 'resultat%'].idxmin()\n",
        "    worstShortTrade = str(\n",
        "        round(dt.loc[dt['position'] == 'SHORT', 'resultat%'].min(), 2))\n",
        "except:\n",
        "    AverageShortTrades = 0\n",
        "    TotalShortTrades = 0\n",
        "    bestShortTrade = ''\n",
        "    idBestShort = ''\n",
        "    idWorstShort = ''\n",
        "    worstShortTrade = ''\n",
        "    print(\"/!\\ There is no SHORT Trades in your BackTest, maybe a problem...\")\n",
        "\n",
        "try:\n",
        "    totalGoodLongTrade = dt.groupby(['position', 'tradeIs']).size()['LONG']['Good']\n",
        "except:\n",
        "    totalGoodLongTrade = 0\n",
        "    print(\"/!\\ There is no good LONG Trades in your BackTest, maybe a problem...\")\n",
        "\n",
        "try:\n",
        "    totalBadLongTrade = dt.groupby(['position', 'tradeIs']).size()['LONG']['Bad']\n",
        "except:\n",
        "    totalBadLongTrade = 0\n",
        "    print(\"/!\\ There is no bad LONG Trades in your BackTest, maybe a problem...\")\n",
        "\n",
        "try:\n",
        "    totalGoodShortTrade = dt.groupby(['position', 'tradeIs']).size()['SHORT']['Good']\n",
        "except:\n",
        "    totalGoodShortTrade = 0\n",
        "    print(\"/!\\ There is no good SHORT Trades in your BackTest, maybe a problem...\")\n",
        "\n",
        "try:\n",
        "    totalBadShortTrade = dt.groupby(['position', 'tradeIs']).size()['SHORT']['Bad']\n",
        "except:\n",
        "    totalBadShortTrade = 0\n",
        "    print(\"/!\\ There is no bad SHORT Trades in your BackTest, maybe a problem...\")\n",
        "\n",
        "TotalTrades = TotalGoodTrades + TotalBadTrades\n",
        "winRateRatio = (TotalGoodTrades/TotalTrades) * 100\n",
        "\n",
        "reasons = dt['reason'].unique()\n",
        "\n",
        "print(\"BackTest finished, final wallet :\",wallet,\"$\")\n",
        "dt"
      ],
      "metadata": {
        "id": "TsInyariLMa0"
      },
      "execution_count": null,
      "outputs": []
    },
    {
      "cell_type": "code",
      "source": [
        "print(\"Pair Symbol :\",pairName,)\n",
        "print(\"Period : [\" + str(dfTest.index[0]) + \"] -> [\" +\n",
        "      str(dfTest.index[len(dfTest)-1]) + \"]\")\n",
        "print(\"Starting balance :\", initalWallet, \"$\")\n",
        "\n",
        "print(\"\\n----- General Informations -----\")\n",
        "print(\"Final balance :\", round(wallet, 2), \"$\")\n",
        "print(\"Performance vs US Dollar :\", round(algoPercentage*100, 2), \"%\")\n",
        "print(\"Buy and Hold Performence :\", round(holdPercentage*100, 2),\n",
        "      \"% | with Leverage :\", round(holdPercentage*100, 2)*leverage, \"%\")\n",
        "print(\"Performance vs Buy and Hold :\", round(vsHoldPercentage, 2), \"%\")\n",
        "print(\"Best trade : +\"+bestTrade, \"%, the \", idbest)\n",
        "print(\"Worst trade :\", worstTrade, \"%, the \", idworst)\n",
        "print(\"Worst drawBack :\", str(100*round(dt['drawBack'].min(), 2)), \"%\")\n",
        "print(\"Total fees : \", round(dt['frais'].sum(), 2), \"$\")\n",
        "\n",
        "print(\"\\n----- Trades Informations -----\")\n",
        "print(\"Total trades on period :\",totalTrades)\n",
        "print(\"Number of positive trades :\", TotalGoodTrades)\n",
        "print(\"Number of negative trades : \", TotalBadTrades)\n",
        "print(\"Trades win rate ratio :\", round(winRateRatio, 2), '%')\n",
        "print(\"Average trades performance :\",tradesPerformance,\"%\")\n",
        "print(\"Average positive trades :\", AveragePercentagePositivTrades, \"%\")\n",
        "print(\"Average negative trades :\", AveragePercentageNegativTrades, \"%\")\n",
        "\n",
        "print(\"\\n----- LONG Trades Informations -----\")\n",
        "print(\"Number of LONG trades :\",TotalLongTrades)\n",
        "print(\"Average LONG trades performance :\",AverageLongTrades, \"%\")\n",
        "print(\"Best  LONG trade +\"+bestLongTrade, \"%, the \", idBestLong)\n",
        "print(\"Worst LONG trade\", worstLongTrade, \"%, the \", idWorstLong)\n",
        "print(\"Number of positive LONG trades :\",totalGoodLongTrade)\n",
        "print(\"Number of negative LONG trades :\",totalBadLongTrade)\n",
        "print(\"LONG trade win rate ratio :\", round(totalGoodLongTrade/TotalLongTrades*100, 2), '%')\n",
        "\n",
        "print(\"\\n----- SHORT Trades Informations -----\")\n",
        "print(\"Number of SHORT trades :\",TotalShortTrades)\n",
        "print(\"Average SHORT trades performance :\",AverageShortTrades, \"%\")\n",
        "print(\"Best  SHORT trade +\"+bestShortTrade, \"%, the \", idBestShort)\n",
        "print(\"Worst SHORT trade\", worstShortTrade, \"%, the \", idWorstShort)\n",
        "print(\"Number of positive SHORT trades :\",totalGoodShortTrade)\n",
        "print(\"Number of negative SHORT trades :\",totalBadShortTrade)\n",
        "print(\"SHORT trade win rate ratio :\", round(totalGoodShortTrade/TotalShortTrades*100, 2), '%')\n",
        "\n",
        "print(\"\\n----- Trades Reasons -----\")\n",
        "reasons = dt['reason'].unique()\n",
        "for r in reasons:\n",
        "    print(r+\" number :\", dt.groupby('reason')['date'].nunique()[r])"
      ],
      "metadata": {
        "id": "oRhAIHb0ODju"
      },
      "execution_count": null,
      "outputs": []
    }
  ]
}